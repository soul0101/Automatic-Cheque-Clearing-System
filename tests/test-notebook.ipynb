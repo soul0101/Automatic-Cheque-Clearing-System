{
 "cells": [
  {
   "cell_type": "code",
   "execution_count": 111,
   "metadata": {},
   "outputs": [
    {
     "data": {
      "text/html": [
       "<pre style=\"white-space:pre;overflow-x:auto;line-height:normal;font-family:Menlo,'DejaVu Sans Mono',consolas,'Courier New',monospace\"><span style=\"color: #7fbfbf; text-decoration-color: #7fbfbf\">[17:39:58] </span><span style=\"color: #000080; text-decoration-color: #000080\">INFO    </span> Calling <span style=\"color: #0000ff; text-decoration-color: #0000ff; text-decoration: underline\">https://app.daisi.io/pebble-api/daisies/connect?name=soul0101/Automatic</span>  <a href=\"file://c:\\Users\\91983\\anaconda3\\envs\\face\\lib\\site-packages\\pydaisi\\pydaisi.py\" target=\"_blank\"><span style=\"color: #7f7f7f; text-decoration-color: #7f7f7f\">pydaisi.py</span></a><span style=\"color: #7f7f7f; text-decoration-color: #7f7f7f\">:</span><a href=\"file://c:\\Users\\91983\\anaconda3\\envs\\face\\lib\\site-packages\\pydaisi\\pydaisi.py#411\" target=\"_blank\"><span style=\"color: #7f7f7f; text-decoration-color: #7f7f7f\">411</span></a>\n",
       "<span style=\"color: #7fbfbf; text-decoration-color: #7fbfbf\">           </span>         Cheque Clearing System                                                           <span style=\"color: #7f7f7f; text-decoration-color: #7f7f7f\">              </span>\n",
       "</pre>\n"
      ],
      "text/plain": [
       "\u001b[2;36m[17:39:58]\u001b[0m\u001b[2;36m \u001b[0m\u001b[34mINFO    \u001b[0m Calling \u001b[4;94mhttps://app.daisi.io/pebble-api/daisies/connect?\u001b[0m\u001b[4;94mname\u001b[0m\u001b[4;94m=\u001b[0m\u001b[4;94msoul0101\u001b[0m\u001b[4;94m/Automatic\u001b[0m  \u001b]8;id=572595;file://c:\\Users\\91983\\anaconda3\\envs\\face\\lib\\site-packages\\pydaisi\\pydaisi.py\u001b\\\u001b[2mpydaisi.py\u001b[0m\u001b]8;;\u001b\\\u001b[2m:\u001b[0m\u001b]8;id=282118;file://c:\\Users\\91983\\anaconda3\\envs\\face\\lib\\site-packages\\pydaisi\\pydaisi.py#411\u001b\\\u001b[2m411\u001b[0m\u001b]8;;\u001b\\\n",
       "\u001b[2;36m           \u001b[0m         Cheque Clearing System                                                           \u001b[2m              \u001b[0m\n"
      ]
     },
     "metadata": {},
     "output_type": "display_data"
    },
    {
     "data": {
      "text/html": [
       "<pre style=\"white-space:pre;overflow-x:auto;line-height:normal;font-family:Menlo,'DejaVu Sans Mono',consolas,'Courier New',monospace\"><span style=\"color: #7fbfbf; text-decoration-color: #7fbfbf\">[17:40:00] </span><span style=\"color: #000080; text-decoration-color: #000080\">INFO    </span> Found existing Daisi: <span style=\"color: #ffff00; text-decoration-color: #ffff00\">f8d428cf-2c93-410e-9aa9-456e99b48516</span>                       <a href=\"file://c:\\Users\\91983\\anaconda3\\envs\\face\\lib\\site-packages\\pydaisi\\pydaisi.py\" target=\"_blank\"><span style=\"color: #7f7f7f; text-decoration-color: #7f7f7f\">pydaisi.py</span></a><span style=\"color: #7f7f7f; text-decoration-color: #7f7f7f\">:</span><a href=\"file://c:\\Users\\91983\\anaconda3\\envs\\face\\lib\\site-packages\\pydaisi\\pydaisi.py#424\" target=\"_blank\"><span style=\"color: #7f7f7f; text-decoration-color: #7f7f7f\">424</span></a>\n",
       "</pre>\n"
      ],
      "text/plain": [
       "\u001b[2;36m[17:40:00]\u001b[0m\u001b[2;36m \u001b[0m\u001b[34mINFO    \u001b[0m Found existing Daisi: \u001b[93mf8d428cf-2c93-410e-9aa9-456e99b48516\u001b[0m                       \u001b]8;id=473149;file://c:\\Users\\91983\\anaconda3\\envs\\face\\lib\\site-packages\\pydaisi\\pydaisi.py\u001b\\\u001b[2mpydaisi.py\u001b[0m\u001b]8;;\u001b\\\u001b[2m:\u001b[0m\u001b]8;id=195594;file://c:\\Users\\91983\\anaconda3\\envs\\face\\lib\\site-packages\\pydaisi\\pydaisi.py#424\u001b\\\u001b[2m424\u001b[0m\u001b]8;;\u001b\\\n"
      ]
     },
     "metadata": {},
     "output_type": "display_data"
    }
   ],
   "source": [
    "import os, sys\n",
    "import json\n",
    "import cv2\n",
    "import pickle\n",
    "import pydaisi as pyd\n",
    "import numpy as np\n",
    "from PIL import Image\n",
    "from matplotlib import pyplot as plt\n",
    "from dotenv import load_dotenv\n",
    "load_dotenv()\n",
    "\n",
    "automatic_cheque_clearing_system = pyd.Daisi(\"soul0101/Automatic Cheque Clearing System\")"
   ]
  },
  {
   "cell_type": "code",
   "execution_count": 112,
   "metadata": {},
   "outputs": [
    {
     "name": "stdout",
     "output_type": "stream",
     "text": [
      "{'micr_strip': '⑈100830⑈500229009⑆551452⑈31', 'acc_number': '630801551452', 'payee': 'B. Shiva Kumar', 'courtesy_amount': 21400000, 'legal_amount': 'Two crore four lakh', 'date_box': '08-02-2016'}\n"
     ]
    }
   ],
   "source": [
    "raw_image = np.array(Image.open('./images/icici1_tilted.png'))\n",
    "segmentation_template = json.loads(open('./templates/icici.json', \"r\").read())\n",
    "raw_extraction_result_pipeline, sanitized_result_pipeline, segments_pipeline = automatic_cheque_clearing_system.cheque_verification_pipeline(raw_image, segmentation_template=segmentation_template).value\n",
    "print(sanitized_result_pipeline)"
   ]
  },
  {
   "cell_type": "code",
   "execution_count": 113,
   "metadata": {},
   "outputs": [],
   "source": [
    "with open('./results/raw_extraction_result_pipeline.pickle', 'rb') as handle:\n",
    "    raw_extraction_result_pipeline_gold = pickle.load(handle)\n",
    "if raw_extraction_result_pipeline != raw_extraction_result_pipeline_gold:\n",
    "    sys.exit(1)\n",
    "\n",
    "with open('./results/sanitized_result_pipeline.pickle', 'rb') as handle:\n",
    "    sanitized_result_pipeline_gold = pickle.load(handle)\n",
    "if sanitized_result_pipeline != sanitized_result_pipeline_gold:\n",
    "    sys.exit(1)\n",
    "\n",
    "with open('./results/segments_pipeline.pickle', 'rb') as handle:\n",
    "    segments_pipeline_gold = pickle.load(handle)\n",
    "for key, value in segments_pipeline_gold.items():\n",
    "    if(np.any(segments_pipeline[key] != segments_pipeline_gold[key])):\n",
    "        sys.exit(1)"
   ]
  },
  {
   "cell_type": "code",
   "execution_count": 114,
   "metadata": {},
   "outputs": [],
   "source": [
    "cropped_img = automatic_cheque_clearing_system.crop_to_cheque(raw_image).value"
   ]
  },
  {
   "cell_type": "code",
   "execution_count": 115,
   "metadata": {},
   "outputs": [],
   "source": [
    "with open('./results/cropped_img.pickle', 'rb') as handle:\n",
    "    cropped_img_gold = pickle.load(handle)\n",
    "\n",
    "if np.any(cropped_img != cropped_img_gold):\n",
    "    sys.exit(1)"
   ]
  },
  {
   "cell_type": "code",
   "execution_count": 116,
   "metadata": {},
   "outputs": [],
   "source": [
    "cleaned_img = automatic_cheque_clearing_system.clean_cheque(cropped_img).value"
   ]
  },
  {
   "cell_type": "code",
   "execution_count": 117,
   "metadata": {},
   "outputs": [],
   "source": [
    "with open('./results/cleaned_img.pickle', 'rb') as handle:\n",
    "    cleaned_img_gold = pickle.load(handle)\n",
    "\n",
    "if np.any(cleaned_img != cleaned_img_gold):\n",
    "    sys.exit(1)"
   ]
  },
  {
   "cell_type": "code",
   "execution_count": 118,
   "metadata": {},
   "outputs": [],
   "source": [
    "segmentation_result = automatic_cheque_clearing_system.segment_cheque(cleaned_img, segmentation_template=segmentation_template).value"
   ]
  },
  {
   "cell_type": "code",
   "execution_count": 119,
   "metadata": {},
   "outputs": [],
   "source": [
    "with open('./results/segmentation_result.pickle', 'rb') as handle:\n",
    "    segmentation_result_gold = pickle.load(handle)\n",
    "\n",
    "for key, value in segmentation_result_gold.items():\n",
    "    if(np.any(segmentation_result[key] != segmentation_result_gold[key])):\n",
    "        sys.exit(1)"
   ]
  },
  {
   "cell_type": "code",
   "execution_count": 120,
   "metadata": {},
   "outputs": [],
   "source": [
    "raw_extraction_result = automatic_cheque_clearing_system.azure_cheque_ocr(cleaned_img, segmentation_template=segmentation_template).value"
   ]
  },
  {
   "cell_type": "code",
   "execution_count": 121,
   "metadata": {},
   "outputs": [],
   "source": [
    "with open('./results/raw_extraction_result.pickle', 'rb') as handle:\n",
    "    raw_extraction_result_gold = pickle.load(handle)\n",
    "\n",
    "if raw_extraction_result != raw_extraction_result_gold:\n",
    "    sys.exit(1)"
   ]
  },
  {
   "cell_type": "code",
   "execution_count": 122,
   "metadata": {},
   "outputs": [],
   "source": [
    "sanitized_result = automatic_cheque_clearing_system.extraction_result_sanitizer(raw_extraction_result).value"
   ]
  },
  {
   "cell_type": "code",
   "execution_count": 123,
   "metadata": {},
   "outputs": [],
   "source": [
    "with open('./results/sanitized_result.pickle', 'rb') as handle:\n",
    "    sanitized_result_gold = pickle.load(handle)\n",
    "\n",
    "if sanitized_result != sanitized_result_gold:\n",
    "    sys.exit(1)"
   ]
  },
  {
   "cell_type": "code",
   "execution_count": 124,
   "metadata": {},
   "outputs": [],
   "source": [
    "orig_sign_np = cv2.imread('../images/original_sign.png')\n",
    "check_sign_np = cv2.imread('../images/original_sign.png')\n",
    "cleaned_orig_sign, cleaned_check_sign = automatic_cheque_clearing_system.signature_cleaner([orig_sign_np, check_sign_np]).value"
   ]
  },
  {
   "cell_type": "code",
   "execution_count": 125,
   "metadata": {},
   "outputs": [],
   "source": [
    "with open('./results/cleaned_signatures.pickle', 'rb') as handle:\n",
    "    cleaned_orig_sign_gold, cleaned_check_sign_gold = pickle.load(handle)\n",
    "\n",
    "if np.any(cleaned_orig_sign != cleaned_orig_sign_gold) or np.any(cleaned_check_sign != cleaned_check_sign_gold):\n",
    "    sys.exit(1)"
   ]
  },
  {
   "cell_type": "code",
   "execution_count": 126,
   "metadata": {},
   "outputs": [],
   "source": [
    "verification_result = automatic_cheque_clearing_system.verify_signatures(orig_sign_np, check_sign_np).value"
   ]
  },
  {
   "cell_type": "code",
   "execution_count": 127,
   "metadata": {},
   "outputs": [],
   "source": [
    "with open('./results/verification_result.pickle', 'rb') as handle:\n",
    "    verification_result_gold = pickle.load(handle)\n",
    "\n",
    "if verification_result != verification_result_gold:\n",
    "    sys.exit(1)"
   ]
  }
 ],
 "metadata": {
  "kernelspec": {
   "display_name": "Python 3.9.1 ('face')",
   "language": "python",
   "name": "python3"
  },
  "language_info": {
   "codemirror_mode": {
    "name": "ipython",
    "version": 3
   },
   "file_extension": ".py",
   "mimetype": "text/x-python",
   "name": "python",
   "nbconvert_exporter": "python",
   "pygments_lexer": "ipython3",
   "version": "3.9.1"
  },
  "orig_nbformat": 4,
  "vscode": {
   "interpreter": {
    "hash": "0015dbe0128247db5ee375288c307af905a456c2f7f82485d02b896432d2a5fb"
   }
  }
 },
 "nbformat": 4,
 "nbformat_minor": 2
}
